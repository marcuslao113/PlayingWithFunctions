{
 "cells": [
  {
   "cell_type": "markdown",
   "metadata": {},
   "source": [
    "## Playing With Functions"
   ]
  },
  {
   "cell_type": "code",
   "execution_count": null,
   "metadata": {},
   "outputs": [],
   "source": [
    "These exercises are designed to strengthen your grasp on basic programming concepts. Read what is required of you carefully. For example, instructions to **return** values are not the same as those of **printing**.\n",
    "\n",
    "Make sure that cells are in **script mode** (not **interactive mode**).\n"
   ]
  },
  {
   "cell_type": "code",
   "execution_count": null,
   "metadata": {},
   "outputs": [],
   "source": [
    "# 1\n",
    "### 1 point\n",
    "\n",
    "Write a function that takes the circumference of a circle as a parameter and **returns** the area of that circle.\n",
    "\n",
    "Note: Assume the value of pi is 3.1416"
   ]
  },
  {
   "cell_type": "code",
   "execution_count": 19,
   "metadata": {},
   "outputs": [
    {
     "name": "stdout",
     "output_type": "stream",
     "text": [
      "5.092946269416858\n"
     ]
    }
   ],
   "source": [
    "def circleArea(circumference):\n",
    "    radius = circumference/(2*3.1416)\n",
    "    area = ((radius) ** 2) * 3.1416\n",
    "    return area\n",
    "\n",
    "print(circleArea(8))"
   ]
  },
  {
   "cell_type": "code",
   "execution_count": 6,
   "metadata": {},
   "outputs": [],
   "source": [
    "# 2\n",
    "### 2 points\n",
    "\n",
    "Write a function that takes a 5-character string as a parameter and **returns** the string in reverse order.\n",
    "\n",
    "e.g. reverseString(\"Hello\") -> \"olleH\""
   ]
  },
  {
   "cell_type": "code",
   "execution_count": 28,
   "metadata": {},
   "outputs": [
    {
     "name": "stdout",
     "output_type": "stream",
     "text": [
      "ybbob\n"
     ]
    }
   ],
   "source": [
    "def Reverse(string):\n",
    "    \n",
    "    output = \"\"\n",
    "    string2list = list(string)\n",
    "    string2list.reverse()\n",
    "    for i in string2list:\n",
    "        output += i\n",
    "        \n",
    "        \n",
    "    return output\n",
    "\n",
    "print(Reverse(\"bobby\"))\n"
   ]
  },
  {
   "cell_type": "code",
   "execution_count": null,
   "metadata": {},
   "outputs": [],
   "source": [
    "# 3\n",
    "### 2 points\n",
    "\n",
    "Write a function that takes a positive integer as input and **returns** the sum of all positive integers smaller than and including the number itself.\n",
    "\n",
    "e.g. backAddition(5) -> 1 + 2 + 3 + 4 + 5 -> 15"
   ]
  },
  {
   "cell_type": "code",
   "execution_count": 12,
   "metadata": {},
   "outputs": [],
   "source": [
    "def addint(number):\n",
    "    add = 0\n",
    "    for i in range(number + 1):\n",
    "        add += i\n",
    "    return add\n",
    "\n",
    "print(addint(5))\n",
    "        "
   ]
  },
  {
   "cell_type": "code",
   "execution_count": null,
   "metadata": {},
   "outputs": [],
   "source": [
    "# 4\n",
    "### 5 points (all or nothing)\n",
    "\n",
    "The sum of the squares of the first ten natural numbers is,\n",
    "12 + 22 + ... + 102 = 385\n",
    "\n",
    "The square of the sum of the first ten natural numbers is,\n",
    "(1 + 2 + ... + 10)2 = 552 = 3025\n",
    "\n",
    "Hence the difference between the sum of the squares of the first ten natural numbers and the square of the sum is 3025 − 385 = 2640.\n",
    "\n",
    "Find the difference between the sum of the squares of the first one hundred natural numbers and the square of the sum.\n",
    "\n",
    "Show code that generates the answer."
   ]
  },
  {
   "cell_type": "code",
   "execution_count": 15,
   "metadata": {},
   "outputs": [],
   "source": [
    "def equation(number):\n",
    "    equation2=0\n",
    "    equation3=0\n",
    "    equation4=0\n",
    "    \n",
    "    for i in range(number + 1):\n",
    "        equation2+=i\n",
    "        \n",
    "    equation3=equation2**2\n",
    "    \n",
    "    for x in range(number + 1):\n",
    "        equation4+=i**2\n",
    "\n",
    "    return equation3-equation4\n",
    "\n",
    "print(equation(100))\n",
    "\n"
   ]
  },
  {
   "cell_type": "code",
   "execution_count": null,
   "metadata": {},
   "outputs": [],
   "source": [
    "# 5\n",
    "### 5 points \n",
    "\n",
    "Write a function that allows a self-service Point of Sale system to give you the exact \n",
    "change when you pay in cash.\n",
    "\n",
    "The function should accept the number of cents entered by the caller of the function. \n",
    "\n",
    "It then should **display** the denominations of the coins that should be given to the buyer. \n",
    "\n",
    "The change should use as few coins as possible. \n",
    "\n",
    "Assume that the Point of Sale system is loaded with 1 cent, 5 cents, 10 cents, 25 cents and 1 peso coins.\n",
    "\n",
    "Write main program code that accepts the number of cents manually through user input \n",
    "and calls the function written above.\n",
    "\n",
    "**Input:** The program accepts one positive integer, ***cents***, \n",
    "    corresponding to the total change to be given by the Point of Sale system.\n",
    "\n",
    "**Output:** The number of 1 peso, 25 cents, 10 cents, 5 cents and \n",
    "    1 cent coins respectively. There should be one output per line.\n",
    "\n",
    "**Sample Input 1:**  \n",
    "105\n",
    "\n",
    "**Sample Output 1**  \n",
    "1  \n",
    "0  \n",
    "0  \n",
    "1  \n",
    "0  \n",
    "\n",
    "**Sample Input 2:**  \n",
    "69  \n",
    "\n",
    "**Sample Output 2:**  \n",
    "0  \n",
    "2  \n",
    "1  \n",
    "1  \n",
    "4  \n",
    "\n",
    "\n"
   ]
  },
  {
   "cell_type": "code",
   "execution_count": 16,
   "metadata": {},
   "outputs": [
    {
     "name": "stdin",
     "output_type": "stream",
     "text": [
      "Cents:  60\n"
     ]
    },
    {
     "name": "stdout",
     "output_type": "stream",
     "text": [
      "\n",
      "1-peso coins: 0\n",
      "25-cent coins: 2\n",
      "10-cent coins: 1\n",
      "5-cent coins: 0\n",
      "1-cent coins: 0\n"
     ]
    }
   ],
   "source": [
    "change = int(input(\"Cents: \"))\n",
    "peso1 = 0\n",
    "cent25 = 0\n",
    "cent10 = 0\n",
    "cent5 = 0\n",
    "cent1 = 0\n",
    "\n",
    "if change >= 100:\n",
    "    while change >= 100 or change != 0:\n",
    "        change -= 100\n",
    "        peso1 += 1\n",
    "        \n",
    "        if change == 0:\n",
    "            break\n",
    "        elif change < 100:\n",
    "            break\n",
    "        \n",
    "if change < 100 and change >= 25:\n",
    "    while change >= 25 or change != 0:\n",
    "        change -= 25\n",
    "        cent25 += 1\n",
    "        \n",
    "        if change == 0:\n",
    "            break\n",
    "        elif change < 25:\n",
    "            break\n",
    "\n",
    "if change < 25 and change >= 10:\n",
    "    while change >= 10 or change != 0:\n",
    "        change -= 10\n",
    "        cent10 += 1\n",
    "        \n",
    "        if change == 0:\n",
    "            break\n",
    "        elif change < 10:\n",
    "            break\n",
    "\n",
    "if change < 10 and change >= 5:\n",
    "    while change >= 5 or change != 0:\n",
    "        change -= 5\n",
    "        cent5 += 1\n",
    "        \n",
    "        if change == 0:\n",
    "            break\n",
    "        elif change < 5:\n",
    "            break\n",
    "\n",
    "if change < 5 and change >= 1:\n",
    "    while change >= 1 or change != 0:\n",
    "        change -= 1\n",
    "        cent1 += 1\n",
    "        \n",
    "        if change == 0:\n",
    "            break\n",
    "\n",
    "print()\n",
    "print(\"1-peso coins: \" + str(peso1))\n",
    "print(\"25-cent coins: \" + str(cent25))\n",
    "print(\"10-cent coins: \" + str(cent10))\n",
    "print(\"5-cent coins: \" + str(cent5))\n",
    "print(\"1-cent coins: \" + str(cent1))"
   ]
  },
  {
   "cell_type": "code",
   "execution_count": null,
   "metadata": {},
   "outputs": [],
   "source": []
  }
 ],
 "metadata": {
  "kernelspec": {
   "display_name": "Python 3",
   "language": "python",
   "name": "python3"
  },
  "language_info": {
   "codemirror_mode": {
    "name": "ipython",
    "version": 3
   },
   "file_extension": ".py",
   "mimetype": "text/x-python",
   "name": "python",
   "nbconvert_exporter": "python",
   "pygments_lexer": "ipython3",
   "version": "3.8.3"
  }
 },
 "nbformat": 4,
 "nbformat_minor": 4
}
